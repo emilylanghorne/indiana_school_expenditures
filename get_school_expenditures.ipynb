{
 "cells": [
  {
   "cell_type": "markdown",
   "metadata": {},
   "source": [
    "# Scraping protocol descriptions"
   ]
  },
  {
   "cell_type": "markdown",
   "metadata": {},
   "source": [
    "### Import packages"
   ]
  },
  {
   "cell_type": "markdown",
   "metadata": {},
   "source": [
    "# Setup"
   ]
  },
  {
   "cell_type": "code",
   "execution_count": 1,
   "metadata": {
    "collapsed": true
   },
   "outputs": [],
   "source": [
    "from pathlib import Path\n",
    "import pickle\n",
    "import pandas as pd\n",
    "import requests\n",
    "import numpy as np\n"
   ]
  },
  {
   "cell_type": "code",
   "execution_count": 22,
   "metadata": {},
   "outputs": [],
   "source": [
    "from tabula import read_pdf\n"
   ]
  },
  {
   "cell_type": "code",
   "execution_count": null,
   "metadata": {},
   "outputs": [],
   "source": [
    "# Data downloaded from the following link:\n",
    "link = 'https://www.in.gov/omb/2664.htm'"
   ]
  },
  {
   "cell_type": "raw",
   "metadata": {},
   "source": [
    "#following not used. instead links were copied manually from website:\n",
    "#!conda install -y -c anaconda beautifulsoup4 \n",
    "from bs4 import BeautifulSoup\n",
    "result = requests.get(link)\n",
    "result_soup = BeautifulSoup(result.content, 'html.parser')\n",
    "result_soup.find_all('a')"
   ]
  },
  {
   "cell_type": "markdown",
   "metadata": {},
   "source": [
    "# Define functions"
   ]
  },
  {
   "cell_type": "code",
   "execution_count": 104,
   "metadata": {},
   "outputs": [],
   "source": [
    "def get_pdf(row):\n",
    "    url = row.url\n",
    "    filename = row.school_name + '.pdf'\n",
    "    cmd  = f\"\"\"curl {url} > 'pdfs/{filename}'\"\"\"\n",
    "    !{cmd}\n",
    "#     print(cmd)\n",
    "\n",
    "def get_schools(filename,df_in,expenditure_type,unique_cols):\n",
    "\n",
    "    useful_cols = ['year',*unique_cols]\n",
    "    df_in = df_in.rename(columns = df_in.iloc[0,:])\n",
    "    df_in['year']  = df_in.loc[:,df_in.apply(lambda col: bool(col.str.contains('FY.*20[0-9]{,2}').sum()))]\n",
    "    df_in = (df_in\n",
    "     .loc[df_in.year.notnull(),useful_cols]\n",
    "     .assign(year = lambda df: df.year.str.extract('.*(20[0-9]{2,2}).*',expand=False))\n",
    "     .apply(lambda col:col.str.split(\" \").str[0] )\n",
    "     .apply(lambda col:col.str.replace('\\D',''))\n",
    "     .assign(expenditure_type = expenditure_type,\n",
    "            school = Path(filename).stem)\n",
    "\n",
    "    )\n",
    "    df_in = pd.melt(\n",
    "        df_in,\n",
    "        id_vars=[*df_in.columns.drop(useful_cols[1:])],\n",
    "        value_name='amount',\n",
    "        var_name = 'funding_category'\n",
    "        )\n",
    "    return df_in\n",
    "\n",
    "def get_spending_breakdown(filename):\n",
    "\n",
    "    dfs_all = read_pdf(filename,multiple_tables=True,pages=1)\n",
    "\n",
    "\n",
    "    unique_cols = ['Student Academic Achievement','Student Instructional Support']\n",
    "    expenditure_type = \"Instructional\"\n",
    "    df_1 = get_schools(filename,dfs_all[0].T,expenditure_type,unique_cols)\n",
    "\n",
    "    unique_cols = ['Overhead and Operational','Non Operational','Not Categorized']\n",
    "    expenditure_type = \"Non-Instructional\"\n",
    "    df_2 = get_schools(filename,dfs_all[1].T,expenditure_type,unique_cols)\n",
    "    df_full = pd.concat([df_1,df_2], axis = 0)\n",
    "\n",
    "    df_full\n",
    "    return df_full"
   ]
  },
  {
   "cell_type": "markdown",
   "metadata": {},
   "source": [
    "# Get pdfs"
   ]
  },
  {
   "cell_type": "code",
   "execution_count": 163,
   "metadata": {},
   "outputs": [],
   "source": [
    "!mkdir pdfs"
   ]
  },
  {
   "cell_type": "code",
   "execution_count": null,
   "metadata": {},
   "outputs": [],
   "source": [
    "df_pdfs = pd.read_csv('school_pdfs.csv')\n",
    "\n",
    "df_pdfs['school_name'] = (df_pdfs\n",
    "                          .school_name.str.replace('(?<!;) +?','_')\n",
    "                          .str.replace(';','_')\n",
    "                          .str.replace('[^a-zA-Z0-9_]','')\n",
    "                         \n",
    "                         )\n",
    "\n",
    "# get_pdf(df_pdfs.iloc[1,:])\n",
    "df_pdfs.apply(lambda row:get_pdf(row), axis=1)\n",
    "\n",
    "df_pdfs['filename'] = df_pdfs.school_name.apply(lambda x: 'pdfs/' + x + '.pdf')"
   ]
  },
  {
   "cell_type": "code",
   "execution_count": null,
   "metadata": {},
   "outputs": [],
   "source": [
    "df_pdfs.head()"
   ]
  },
  {
   "cell_type": "markdown",
   "metadata": {},
   "source": [
    "# Process pdfs"
   ]
  },
  {
   "cell_type": "code",
   "execution_count": 114,
   "metadata": {},
   "outputs": [
    {
     "name": "stdout",
     "output_type": "stream",
     "text": [
      "Error: \n",
      "Error: \n",
      "Error: \n",
      "Error: \n",
      "Error: \n",
      "Error: \n"
     ]
    }
   ],
   "source": [
    "dfs = []\n",
    "bad_files = []\n",
    "for filename in df_pdfs.filename:\n",
    "    try:\n",
    "        df_spending = get_spending_breakdown(filename)\n",
    "        dfs.append(df_spending)\n",
    "    except:\n",
    "        bad_files.append(filename)"
   ]
  },
  {
   "cell_type": "code",
   "execution_count": 115,
   "metadata": {},
   "outputs": [
    {
     "data": {
      "text/plain": [
       "374"
      ]
     },
     "execution_count": 115,
     "metadata": {},
     "output_type": "execute_result"
    }
   ],
   "source": [
    "len(dfs)"
   ]
  },
  {
   "cell_type": "code",
   "execution_count": 117,
   "metadata": {},
   "outputs": [
    {
     "data": {
      "text/plain": [
       "['pdfs/Career_Academy_Middle_School_9965httpswwwingovombfiles9965fy16.pdf',\n",
       " 'pdfs/Christel_House_DORSnbsp_9385.pdf',\n",
       " 'pdfs/ombfiles3710fy16_target_blankCrothersville_Community_Schoolsnbsp_3710.pdf',\n",
       " 'pdfs/Daleville_Community_Schoolsnbsp_1940.pdf',\n",
       " 'pdfs/Fayette_County_School_Corpnbsp_2395.pdf',\n",
       " 'pdfs/ombfilesmonrowgregg5900_target_blankMonroeGregg_School_Districtnbsp_5900.pdf']"
      ]
     },
     "execution_count": 117,
     "metadata": {},
     "output_type": "execute_result"
    }
   ],
   "source": [
    "bad_files"
   ]
  },
  {
   "cell_type": "code",
   "execution_count": 118,
   "metadata": {},
   "outputs": [],
   "source": [
    "df_all_schools = pd.concat(dfs,axis = 0)"
   ]
  },
  {
   "cell_type": "code",
   "execution_count": 119,
   "metadata": {},
   "outputs": [
    {
     "data": {
      "text/plain": [
       "11220"
      ]
     },
     "execution_count": 119,
     "metadata": {},
     "output_type": "execute_result"
    }
   ],
   "source": [
    "len(df_all_schools)"
   ]
  },
  {
   "cell_type": "code",
   "execution_count": 120,
   "metadata": {},
   "outputs": [],
   "source": [
    "df_all_schools.to_csv('all_school_funding.csv',index=False)"
   ]
  }
 ],
 "metadata": {
  "kernelspec": {
   "display_name": "Python 3",
   "language": "python",
   "name": "python3"
  },
  "language_info": {
   "codemirror_mode": {
    "name": "ipython",
    "version": 3
   },
   "file_extension": ".py",
   "mimetype": "text/x-python",
   "name": "python",
   "nbconvert_exporter": "python",
   "pygments_lexer": "ipython3",
   "version": "3.6.4"
  }
 },
 "nbformat": 4,
 "nbformat_minor": 2
}
