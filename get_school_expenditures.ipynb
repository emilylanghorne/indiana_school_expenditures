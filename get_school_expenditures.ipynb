{
 "cells": [
  {
   "cell_type": "markdown",
   "metadata": {},
   "source": [
    "# Scraping protocol descriptions"
   ]
  },
  {
   "cell_type": "markdown",
   "metadata": {},
   "source": [
    "### Import packages"
   ]
  },
  {
   "cell_type": "markdown",
   "metadata": {},
   "source": [
    "# Setup"
   ]
  },
  {
   "cell_type": "code",
   "execution_count": 1,
   "metadata": {
    "collapsed": true
   },
   "outputs": [],
   "source": [
    "from pathlib import Path\n",
    "import pickle\n",
    "import pandas as pd\n",
    "import requests\n",
    "import numpy as np\n",
    "\n",
    "pd.options.display.max_colwidth = 500\n",
    "pd.options.display.max_rows = 1000"
   ]
  },
  {
   "cell_type": "code",
   "execution_count": 153,
   "metadata": {},
   "outputs": [],
   "source": [
    "import seaborn as sns\n",
    "%matplotlib inline"
   ]
  },
  {
   "cell_type": "code",
   "execution_count": 20,
   "metadata": {},
   "outputs": [],
   "source": [
    "from tabula import read_pdf\n"
   ]
  },
  {
   "cell_type": "code",
   "execution_count": 19,
   "metadata": {},
   "outputs": [],
   "source": [
    "# Data downloaded from the following link:\n",
    "link = 'https://www.in.gov/omb/2664.htm'"
   ]
  },
  {
   "cell_type": "raw",
   "metadata": {},
   "source": [
    "#following not used. instead links were copied manually from website:\n",
    "#!conda install -y -c anaconda beautifulsoup4 \n",
    "from bs4 import BeautifulSoup\n",
    "result = requests.get(link)\n",
    "result_soup = BeautifulSoup(result.content, 'html.parser')\n",
    "result_soup.find_all('a')"
   ]
  },
  {
   "cell_type": "markdown",
   "metadata": {},
   "source": [
    "# Define functions"
   ]
  },
  {
   "cell_type": "code",
   "execution_count": 104,
   "metadata": {},
   "outputs": [],
   "source": [
    "def get_pdf(row):\n",
    "    url = row.url\n",
    "    filename = row.school_name + '.pdf'\n",
    "    cmd  = f\"\"\"curl {url} > 'pdfs/{filename}'\"\"\"\n",
    "    !{cmd}\n",
    "#     print(cmd)\n",
    "\n",
    "def get_schools(filename,df_in,expenditure_type,unique_cols):\n",
    "\n",
    "    useful_cols = ['year',*unique_cols]\n",
    "    df_in = df_in.rename(columns = df_in.iloc[0,:])\n",
    "    df_in['year']  = df_in.loc[:,df_in.apply(lambda col: bool(col.str.contains('FY.*20[0-9]{,2}').sum()))]\n",
    "    df_in = (df_in\n",
    "     .loc[df_in.year.notnull(),useful_cols]\n",
    "     .assign(year = lambda df: df.year.str.extract('.*(20[0-9]{2,2}).*',expand=False))\n",
    "     .apply(lambda col:col.str.split(\" \").str[0] )\n",
    "     .apply(lambda col:col.str.replace('\\D',''))\n",
    "     .assign(expenditure_type = expenditure_type,\n",
    "            school = Path(filename).stem)\n",
    "\n",
    "    )\n",
    "    df_in = pd.melt(\n",
    "        df_in,\n",
    "        id_vars=[*df_in.columns.drop(useful_cols[1:])],\n",
    "        value_name='amount',\n",
    "        var_name = 'funding_category'\n",
    "        )\n",
    "    return df_in\n",
    "\n",
    "def get_spending_breakdown(filename):\n",
    "\n",
    "    dfs_all = read_pdf(filename,multiple_tables=True,pages=1)\n",
    "\n",
    "\n",
    "    unique_cols = ['Student Academic Achievement','Student Instructional Support']\n",
    "    expenditure_type = \"Instructional\"\n",
    "    df_1 = get_schools(filename,dfs_all[0].T,expenditure_type,unique_cols)\n",
    "\n",
    "    unique_cols = ['Overhead and Operational','Non Operational','Not Categorized']\n",
    "    expenditure_type = \"Non-Instructional\"\n",
    "    df_2 = get_schools(filename,dfs_all[1].T,expenditure_type,unique_cols)\n",
    "    df_full = pd.concat([df_1,df_2], axis = 0)\n",
    "\n",
    "    df_full\n",
    "    return df_full"
   ]
  },
  {
   "cell_type": "markdown",
   "metadata": {},
   "source": [
    "# Get pdfs"
   ]
  },
  {
   "cell_type": "code",
   "execution_count": 163,
   "metadata": {},
   "outputs": [],
   "source": [
    "!mkdir pdfs"
   ]
  },
  {
   "cell_type": "code",
   "execution_count": null,
   "metadata": {},
   "outputs": [],
   "source": [
    "df_pdfs = pd.read_csv('school_pdfs.csv')\n",
    "\n",
    "df_pdfs['school_name'] = (df_pdfs\n",
    "                          .school_name.str.replace('(?<!;) +?','_')\n",
    "                          .str.replace(';','_')\n",
    "                          .str.replace('[^a-zA-Z0-9_]','')\n",
    "                         \n",
    "                         )\n",
    "\n",
    "# get_pdf(df_pdfs.iloc[1,:])\n",
    "df_pdfs.apply(lambda row:get_pdf(row), axis=1)\n",
    "\n",
    "df_pdfs['filename'] = df_pdfs.school_name.apply(lambda x: 'pdfs/' + x + '.pdf')"
   ]
  },
  {
   "cell_type": "code",
   "execution_count": null,
   "metadata": {},
   "outputs": [],
   "source": [
    "df_pdfs.head()"
   ]
  },
  {
   "cell_type": "markdown",
   "metadata": {},
   "source": [
    "# Process pdfs"
   ]
  },
  {
   "cell_type": "code",
   "execution_count": 114,
   "metadata": {},
   "outputs": [
    {
     "name": "stdout",
     "output_type": "stream",
     "text": [
      "Error: \n",
      "Error: \n",
      "Error: \n",
      "Error: \n",
      "Error: \n",
      "Error: \n"
     ]
    }
   ],
   "source": [
    "dfs = []\n",
    "bad_files = []\n",
    "for filename in df_pdfs.filename:\n",
    "    try:\n",
    "        df_spending = get_spending_breakdown(filename)\n",
    "        dfs.append(df_spending)\n",
    "    except:\n",
    "        bad_files.append(filename)"
   ]
  },
  {
   "cell_type": "code",
   "execution_count": 115,
   "metadata": {},
   "outputs": [
    {
     "data": {
      "text/plain": [
       "374"
      ]
     },
     "execution_count": 115,
     "metadata": {},
     "output_type": "execute_result"
    }
   ],
   "source": [
    "len(dfs)"
   ]
  },
  {
   "cell_type": "markdown",
   "metadata": {},
   "source": [
    "Files that had broken links:"
   ]
  },
  {
   "cell_type": "code",
   "execution_count": 117,
   "metadata": {},
   "outputs": [
    {
     "data": {
      "text/plain": [
       "['pdfs/Career_Academy_Middle_School_9965httpswwwingovombfiles9965fy16.pdf',\n",
       " 'pdfs/Christel_House_DORSnbsp_9385.pdf',\n",
       " 'pdfs/ombfiles3710fy16_target_blankCrothersville_Community_Schoolsnbsp_3710.pdf',\n",
       " 'pdfs/Daleville_Community_Schoolsnbsp_1940.pdf',\n",
       " 'pdfs/Fayette_County_School_Corpnbsp_2395.pdf',\n",
       " 'pdfs/ombfilesmonrowgregg5900_target_blankMonroeGregg_School_Districtnbsp_5900.pdf']"
      ]
     },
     "execution_count": 117,
     "metadata": {},
     "output_type": "execute_result"
    }
   ],
   "source": [
    "bad_files"
   ]
  },
  {
   "cell_type": "code",
   "execution_count": 118,
   "metadata": {},
   "outputs": [],
   "source": [
    "df_all_schools = pd.concat(dfs,axis = 0)"
   ]
  },
  {
   "cell_type": "code",
   "execution_count": 119,
   "metadata": {},
   "outputs": [
    {
     "data": {
      "text/plain": [
       "11220"
      ]
     },
     "execution_count": 119,
     "metadata": {},
     "output_type": "execute_result"
    }
   ],
   "source": [
    "len(df_all_schools)"
   ]
  },
  {
   "cell_type": "code",
   "execution_count": 120,
   "metadata": {},
   "outputs": [],
   "source": [
    "df_all_schools.to_csv('all_school_funding.csv',index=False)"
   ]
  },
  {
   "cell_type": "markdown",
   "metadata": {},
   "source": [
    "# Do further analysis"
   ]
  },
  {
   "cell_type": "code",
   "execution_count": 169,
   "metadata": {},
   "outputs": [
    {
     "data": {
      "text/html": [
       "<div>\n",
       "<style scoped>\n",
       "    .dataframe tbody tr th:only-of-type {\n",
       "        vertical-align: middle;\n",
       "    }\n",
       "\n",
       "    .dataframe tbody tr th {\n",
       "        vertical-align: top;\n",
       "    }\n",
       "\n",
       "    .dataframe thead th {\n",
       "        text-align: right;\n",
       "    }\n",
       "</style>\n",
       "<table border=\"1\" class=\"dataframe\">\n",
       "  <thead>\n",
       "    <tr style=\"text-align: right;\">\n",
       "      <th></th>\n",
       "      <th>year</th>\n",
       "      <th>expenditure_type</th>\n",
       "      <th>school</th>\n",
       "      <th>funding_category</th>\n",
       "      <th>amount</th>\n",
       "      <th>percentage</th>\n",
       "    </tr>\n",
       "  </thead>\n",
       "  <tbody>\n",
       "    <tr>\n",
       "      <th>0</th>\n",
       "      <td>2006</td>\n",
       "      <td>Instructional</td>\n",
       "      <td>21st_Century_Charter_Sch_of_Garynbsp_9545</td>\n",
       "      <td>Student Academic Achievement</td>\n",
       "      <td>885297</td>\n",
       "      <td>35.119113</td>\n",
       "    </tr>\n",
       "    <tr>\n",
       "      <th>6</th>\n",
       "      <td>2006</td>\n",
       "      <td>Instructional</td>\n",
       "      <td>21st_Century_Charter_Sch_of_Garynbsp_9545</td>\n",
       "      <td>Student Instructional Support</td>\n",
       "      <td>191398</td>\n",
       "      <td>7.592625</td>\n",
       "    </tr>\n",
       "    <tr>\n",
       "      <th>12</th>\n",
       "      <td>2006</td>\n",
       "      <td>Non-Instructional</td>\n",
       "      <td>21st_Century_Charter_Sch_of_Garynbsp_9545</td>\n",
       "      <td>Overhead and Operational</td>\n",
       "      <td>649896</td>\n",
       "      <td>25.780920</td>\n",
       "    </tr>\n",
       "    <tr>\n",
       "      <th>18</th>\n",
       "      <td>2006</td>\n",
       "      <td>Non-Instructional</td>\n",
       "      <td>21st_Century_Charter_Sch_of_Garynbsp_9545</td>\n",
       "      <td>Non Operational</td>\n",
       "      <td>794250</td>\n",
       "      <td>31.507342</td>\n",
       "    </tr>\n",
       "    <tr>\n",
       "      <th>24</th>\n",
       "      <td>2006</td>\n",
       "      <td>Non-Instructional</td>\n",
       "      <td>21st_Century_Charter_Sch_of_Garynbsp_9545</td>\n",
       "      <td>Not Categorized</td>\n",
       "      <td>0</td>\n",
       "      <td>0.000000</td>\n",
       "    </tr>\n",
       "  </tbody>\n",
       "</table>\n",
       "</div>"
      ],
      "text/plain": [
       "    year   expenditure_type                                     school  \\\n",
       "0   2006      Instructional  21st_Century_Charter_Sch_of_Garynbsp_9545   \n",
       "6   2006      Instructional  21st_Century_Charter_Sch_of_Garynbsp_9545   \n",
       "12  2006  Non-Instructional  21st_Century_Charter_Sch_of_Garynbsp_9545   \n",
       "18  2006  Non-Instructional  21st_Century_Charter_Sch_of_Garynbsp_9545   \n",
       "24  2006  Non-Instructional  21st_Century_Charter_Sch_of_Garynbsp_9545   \n",
       "\n",
       "                 funding_category  amount  percentage  \n",
       "0    Student Academic Achievement  885297   35.119113  \n",
       "6   Student Instructional Support  191398    7.592625  \n",
       "12       Overhead and Operational  649896   25.780920  \n",
       "18                Non Operational  794250   31.507342  \n",
       "24                Not Categorized       0    0.000000  "
      ]
     },
     "execution_count": 169,
     "metadata": {},
     "output_type": "execute_result"
    }
   ],
   "source": [
    "df_all_schools = pd.read_csv('all_school_funding.csv')\n",
    "\n",
    "df_all_schools['percentage'] = df_all_schools.groupby(['school','year'])['amount'].transform(lambda x: 100 * (x / x.sum()))\n",
    "\n",
    "df_all_schools.sort_values(['school','year']).head()"
   ]
  },
  {
   "cell_type": "code",
   "execution_count": 5,
   "metadata": {},
   "outputs": [
    {
     "data": {
      "text/plain": [
       "array(['Student Academic Achievement', 'Student Instructional Support',\n",
       "       'Overhead and Operational', 'Non Operational', 'Not Categorized'],\n",
       "      dtype=object)"
      ]
     },
     "execution_count": 5,
     "metadata": {},
     "output_type": "execute_result"
    }
   ],
   "source": [
    "df_all_schools.funding_category.unique()"
   ]
  },
  {
   "cell_type": "code",
   "execution_count": 5,
   "metadata": {},
   "outputs": [],
   "source": [
    "fund_map = {'Student Academic Achievement':'Student spending',\n",
    "            'Student Instructional Support':'Student spending',\n",
    "            'Overhead and Operational': 'Overhead and Operational',\n",
    "            'Non Operational': 'Non Operational',\n",
    "            'Not Categorized': 'Not Categorized'}\n",
    "df_all_schools['other_categories'] = df_all_schools.funding_category.apply(lambda x: fund_map[x])"
   ]
  },
  {
   "cell_type": "code",
   "execution_count": 7,
   "metadata": {},
   "outputs": [
    {
     "data": {
      "text/html": [
       "<div>\n",
       "<style scoped>\n",
       "    .dataframe tbody tr th:only-of-type {\n",
       "        vertical-align: middle;\n",
       "    }\n",
       "\n",
       "    .dataframe tbody tr th {\n",
       "        vertical-align: top;\n",
       "    }\n",
       "\n",
       "    .dataframe thead th {\n",
       "        text-align: right;\n",
       "    }\n",
       "</style>\n",
       "<table border=\"1\" class=\"dataframe\">\n",
       "  <thead>\n",
       "    <tr style=\"text-align: right;\">\n",
       "      <th></th>\n",
       "      <th>year</th>\n",
       "      <th>expenditure_type</th>\n",
       "      <th>school</th>\n",
       "      <th>funding_category</th>\n",
       "      <th>amount</th>\n",
       "      <th>percentage</th>\n",
       "      <th>other_categories</th>\n",
       "    </tr>\n",
       "  </thead>\n",
       "  <tbody>\n",
       "    <tr>\n",
       "      <th>0</th>\n",
       "      <td>2006</td>\n",
       "      <td>Instructional</td>\n",
       "      <td>21st_Century_Charter_Sch_of_Garynbsp_9545</td>\n",
       "      <td>Student Academic Achievement</td>\n",
       "      <td>885297</td>\n",
       "      <td>35.119113</td>\n",
       "      <td>Student spending</td>\n",
       "    </tr>\n",
       "    <tr>\n",
       "      <th>1</th>\n",
       "      <td>2009</td>\n",
       "      <td>Instructional</td>\n",
       "      <td>21st_Century_Charter_Sch_of_Garynbsp_9545</td>\n",
       "      <td>Student Academic Achievement</td>\n",
       "      <td>1112059</td>\n",
       "      <td>74.739267</td>\n",
       "      <td>Student spending</td>\n",
       "    </tr>\n",
       "    <tr>\n",
       "      <th>2</th>\n",
       "      <td>2013</td>\n",
       "      <td>Instructional</td>\n",
       "      <td>21st_Century_Charter_Sch_of_Garynbsp_9545</td>\n",
       "      <td>Student Academic Achievement</td>\n",
       "      <td>2138374</td>\n",
       "      <td>41.180753</td>\n",
       "      <td>Student spending</td>\n",
       "    </tr>\n",
       "    <tr>\n",
       "      <th>3</th>\n",
       "      <td>2014</td>\n",
       "      <td>Instructional</td>\n",
       "      <td>21st_Century_Charter_Sch_of_Garynbsp_9545</td>\n",
       "      <td>Student Academic Achievement</td>\n",
       "      <td>2602899</td>\n",
       "      <td>43.344980</td>\n",
       "      <td>Student spending</td>\n",
       "    </tr>\n",
       "    <tr>\n",
       "      <th>4</th>\n",
       "      <td>2015</td>\n",
       "      <td>Instructional</td>\n",
       "      <td>21st_Century_Charter_Sch_of_Garynbsp_9545</td>\n",
       "      <td>Student Academic Achievement</td>\n",
       "      <td>3740842</td>\n",
       "      <td>43.675179</td>\n",
       "      <td>Student spending</td>\n",
       "    </tr>\n",
       "  </tbody>\n",
       "</table>\n",
       "</div>"
      ],
      "text/plain": [
       "   year expenditure_type                                     school  \\\n",
       "0  2006    Instructional  21st_Century_Charter_Sch_of_Garynbsp_9545   \n",
       "1  2009    Instructional  21st_Century_Charter_Sch_of_Garynbsp_9545   \n",
       "2  2013    Instructional  21st_Century_Charter_Sch_of_Garynbsp_9545   \n",
       "3  2014    Instructional  21st_Century_Charter_Sch_of_Garynbsp_9545   \n",
       "4  2015    Instructional  21st_Century_Charter_Sch_of_Garynbsp_9545   \n",
       "\n",
       "               funding_category   amount  percentage  other_categories  \n",
       "0  Student Academic Achievement   885297   35.119113  Student spending  \n",
       "1  Student Academic Achievement  1112059   74.739267  Student spending  \n",
       "2  Student Academic Achievement  2138374   41.180753  Student spending  \n",
       "3  Student Academic Achievement  2602899   43.344980  Student spending  \n",
       "4  Student Academic Achievement  3740842   43.675179  Student spending  "
      ]
     },
     "execution_count": 7,
     "metadata": {},
     "output_type": "execute_result"
    }
   ],
   "source": [
    "df_all_schools.head()"
   ]
  },
  {
   "cell_type": "raw",
   "metadata": {},
   "source": [
    "# public schools list:'https://www.doe.in.gov/sites/default/files/accountability/af-2017-corporation-grade-placement-1182018.xlsx'\n",
    "charter_schools_list = 'https://www.in.gov/sboe/files/SBOE%20Evaluation%20of%20Charter%20Schools%20in%20Indiana.pdf'\n",
    "charter_pdf = Path('charter_school_list.pdf')\n",
    "if not charter_pdf.exists():\n",
    "    !curl {charter_schools_list} > {charter_pdf}\n",
    "# used pdftotext to convert to text and manually editted from there.\n",
    "\n",
    "dfs_all = read_pdf(charter_pdf,multiple_tables=True,pages = [27,28])\n",
    "\n",
    "\n",
    "df_charters = pd.concat(dfs_all,axis = 0)\n",
    "\n",
    "# editted the following file to get a mapping between the charter school list and the full school list.\n",
    "df_charters.to_csv('charters_list_tabula_attempt.txt')"
   ]
  },
  {
   "cell_type": "markdown",
   "metadata": {},
   "source": [
    "# Plot"
   ]
  },
  {
   "cell_type": "markdown",
   "metadata": {},
   "source": [
    "With the charter mapping one can plot to compare:"
   ]
  },
  {
   "cell_type": "code",
   "execution_count": 163,
   "metadata": {},
   "outputs": [
    {
     "data": {
      "text/html": [
       "<div>\n",
       "<style scoped>\n",
       "    .dataframe tbody tr th:only-of-type {\n",
       "        vertical-align: middle;\n",
       "    }\n",
       "\n",
       "    .dataframe tbody tr th {\n",
       "        vertical-align: top;\n",
       "    }\n",
       "\n",
       "    .dataframe thead th {\n",
       "        text-align: right;\n",
       "    }\n",
       "</style>\n",
       "<table border=\"1\" class=\"dataframe\">\n",
       "  <thead>\n",
       "    <tr style=\"text-align: right;\">\n",
       "      <th></th>\n",
       "      <th>school_name</th>\n",
       "      <th>status</th>\n",
       "    </tr>\n",
       "  </thead>\n",
       "  <tbody>\n",
       "    <tr>\n",
       "      <th>0</th>\n",
       "      <td>21st Century Charter Sch of Gary</td>\n",
       "      <td>Charter</td>\n",
       "    </tr>\n",
       "    <tr>\n",
       "      <th>1</th>\n",
       "      <td>Adams Central Community Schools</td>\n",
       "      <td>School District</td>\n",
       "    </tr>\n",
       "    <tr>\n",
       "      <th>2</th>\n",
       "      <td>Alexandria Com School Corp</td>\n",
       "      <td>School District</td>\n",
       "    </tr>\n",
       "    <tr>\n",
       "      <th>3</th>\n",
       "      <td>Anderson Community School Corp</td>\n",
       "      <td>School District</td>\n",
       "    </tr>\n",
       "    <tr>\n",
       "      <th>4</th>\n",
       "      <td>Anderson Excel Center</td>\n",
       "      <td>Adult Charter</td>\n",
       "    </tr>\n",
       "  </tbody>\n",
       "</table>\n",
       "</div>"
      ],
      "text/plain": [
       "                        school_name           status\n",
       "0  21st Century Charter Sch of Gary          Charter\n",
       "1   Adams Central Community Schools  School District\n",
       "2        Alexandria Com School Corp  School District\n",
       "3    Anderson Community School Corp  School District\n",
       "4             Anderson Excel Center    Adult Charter"
      ]
     },
     "execution_count": 163,
     "metadata": {},
     "output_type": "execute_result"
    }
   ],
   "source": [
    "df_status = pd.read_csv('charter_school_identification_docs/manual_charter_name_mapping.csv',sep='\\t')\n",
    "df_status = (df_status\n",
    "             .assign(school_name = df_status.school_name.str.replace('-',''))\n",
    "             .rename({'Comments':'status'},axis='columns')\n",
    "             .iloc[:,[0,2]]\n",
    ")\n",
    "df_status.head()"
   ]
  },
  {
   "cell_type": "code",
   "execution_count": 164,
   "metadata": {},
   "outputs": [
    {
     "data": {
      "text/html": [
       "<div>\n",
       "<style scoped>\n",
       "    .dataframe tbody tr th:only-of-type {\n",
       "        vertical-align: middle;\n",
       "    }\n",
       "\n",
       "    .dataframe tbody tr th {\n",
       "        vertical-align: top;\n",
       "    }\n",
       "\n",
       "    .dataframe thead th {\n",
       "        text-align: right;\n",
       "    }\n",
       "</style>\n",
       "<table border=\"1\" class=\"dataframe\">\n",
       "  <thead>\n",
       "    <tr style=\"text-align: right;\">\n",
       "      <th></th>\n",
       "      <th>year</th>\n",
       "      <th>expenditure_type</th>\n",
       "      <th>school</th>\n",
       "      <th>funding_category</th>\n",
       "      <th>amount</th>\n",
       "      <th>percentage</th>\n",
       "      <th>other_categories</th>\n",
       "      <th>charter_status</th>\n",
       "      <th>school_name</th>\n",
       "    </tr>\n",
       "  </thead>\n",
       "  <tbody>\n",
       "    <tr>\n",
       "      <th>0</th>\n",
       "      <td>2006</td>\n",
       "      <td>Instructional</td>\n",
       "      <td>21st_Century_Charter_Sch_of_Garynbsp_9545</td>\n",
       "      <td>Student Academic Achievement</td>\n",
       "      <td>885297</td>\n",
       "      <td>35.119113</td>\n",
       "      <td>Student spending</td>\n",
       "      <td>True</td>\n",
       "      <td>21st Century Charter Sch of Gary</td>\n",
       "    </tr>\n",
       "    <tr>\n",
       "      <th>1</th>\n",
       "      <td>2009</td>\n",
       "      <td>Instructional</td>\n",
       "      <td>21st_Century_Charter_Sch_of_Garynbsp_9545</td>\n",
       "      <td>Student Academic Achievement</td>\n",
       "      <td>1112059</td>\n",
       "      <td>74.739267</td>\n",
       "      <td>Student spending</td>\n",
       "      <td>True</td>\n",
       "      <td>21st Century Charter Sch of Gary</td>\n",
       "    </tr>\n",
       "    <tr>\n",
       "      <th>2</th>\n",
       "      <td>2013</td>\n",
       "      <td>Instructional</td>\n",
       "      <td>21st_Century_Charter_Sch_of_Garynbsp_9545</td>\n",
       "      <td>Student Academic Achievement</td>\n",
       "      <td>2138374</td>\n",
       "      <td>41.180753</td>\n",
       "      <td>Student spending</td>\n",
       "      <td>True</td>\n",
       "      <td>21st Century Charter Sch of Gary</td>\n",
       "    </tr>\n",
       "    <tr>\n",
       "      <th>3</th>\n",
       "      <td>2014</td>\n",
       "      <td>Instructional</td>\n",
       "      <td>21st_Century_Charter_Sch_of_Garynbsp_9545</td>\n",
       "      <td>Student Academic Achievement</td>\n",
       "      <td>2602899</td>\n",
       "      <td>43.344980</td>\n",
       "      <td>Student spending</td>\n",
       "      <td>True</td>\n",
       "      <td>21st Century Charter Sch of Gary</td>\n",
       "    </tr>\n",
       "    <tr>\n",
       "      <th>4</th>\n",
       "      <td>2015</td>\n",
       "      <td>Instructional</td>\n",
       "      <td>21st_Century_Charter_Sch_of_Garynbsp_9545</td>\n",
       "      <td>Student Academic Achievement</td>\n",
       "      <td>3740842</td>\n",
       "      <td>43.675179</td>\n",
       "      <td>Student spending</td>\n",
       "      <td>True</td>\n",
       "      <td>21st Century Charter Sch of Gary</td>\n",
       "    </tr>\n",
       "  </tbody>\n",
       "</table>\n",
       "</div>"
      ],
      "text/plain": [
       "   year expenditure_type                                     school  \\\n",
       "0  2006    Instructional  21st_Century_Charter_Sch_of_Garynbsp_9545   \n",
       "1  2009    Instructional  21st_Century_Charter_Sch_of_Garynbsp_9545   \n",
       "2  2013    Instructional  21st_Century_Charter_Sch_of_Garynbsp_9545   \n",
       "3  2014    Instructional  21st_Century_Charter_Sch_of_Garynbsp_9545   \n",
       "4  2015    Instructional  21st_Century_Charter_Sch_of_Garynbsp_9545   \n",
       "\n",
       "               funding_category   amount  percentage  other_categories  \\\n",
       "0  Student Academic Achievement   885297   35.119113  Student spending   \n",
       "1  Student Academic Achievement  1112059   74.739267  Student spending   \n",
       "2  Student Academic Achievement  2138374   41.180753  Student spending   \n",
       "3  Student Academic Achievement  2602899   43.344980  Student spending   \n",
       "4  Student Academic Achievement  3740842   43.675179  Student spending   \n",
       "\n",
       "   charter_status                       school_name  \n",
       "0            True  21st Century Charter Sch of Gary  \n",
       "1            True  21st Century Charter Sch of Gary  \n",
       "2            True  21st Century Charter Sch of Gary  \n",
       "3            True  21st Century Charter Sch of Gary  \n",
       "4            True  21st Century Charter Sch of Gary  "
      ]
     },
     "execution_count": 164,
     "metadata": {},
     "output_type": "execute_result"
    }
   ],
   "source": [
    "df_all_schools['school_name'] = df_all_schools.school.str.split('nbsp').str[0].str.split('_[0-9]{4,10}').str[0].str.replace('_',' ')\n",
    "df_all_schools.head()"
   ]
  },
  {
   "cell_type": "code",
   "execution_count": 165,
   "metadata": {},
   "outputs": [
    {
     "data": {
      "text/plain": [
       "0"
      ]
     },
     "execution_count": 165,
     "metadata": {},
     "output_type": "execute_result"
    }
   ],
   "source": [
    "df_merge = df_all_schools.merge(df_status, on = 'school_name',how= 'left')\n",
    "df_merge.status.isnull().sum()"
   ]
  },
  {
   "cell_type": "markdown",
   "metadata": {},
   "source": [
    "# problem schools"
   ]
  },
  {
   "cell_type": "code",
   "execution_count": 166,
   "metadata": {},
   "outputs": [],
   "source": [
    "(df_all_schools.\n",
    " query('percentage.isnull()').\n",
    " sort_values(['school','year','funding_category']).\n",
    " to_csv('possible_missing_data.csv',index=False)"
   ]
  },
  {
   "cell_type": "code",
   "execution_count": 155,
   "metadata": {},
   "outputs": [
    {
     "data": {
      "text/plain": [
       "65"
      ]
     },
     "execution_count": 155,
     "metadata": {},
     "output_type": "execute_result"
    }
   ],
   "source": [
    "len(df_all_schools.query('percentage.isnull()').school.unique())"
   ]
  },
  {
   "cell_type": "markdown",
   "metadata": {},
   "source": [
    "Data does not exist for these schools in these years because they were not yet open."
   ]
  },
  {
   "cell_type": "markdown",
   "metadata": {},
   "source": [
    "# plot"
   ]
  },
  {
   "cell_type": "code",
   "execution_count": 176,
   "metadata": {},
   "outputs": [
    {
     "name": "stderr",
     "output_type": "stream",
     "text": [
      "/Users/emilylanghorne/miniconda3/envs/juplab/lib/python3.6/site-packages/scipy/stats/stats.py:1713: FutureWarning: Using a non-tuple sequence for multidimensional indexing is deprecated; use `arr[tuple(seq)]` instead of `arr[seq]`. In the future this will be interpreted as an array index, `arr[np.array(seq)]`, which will result either in an error or a different result.\n",
      "  return np.add.reduce(sorted[indexer] * weights, axis=axis) / sumval\n"
     ]
    },
    {
     "data": {
      "image/png": "[encoded data removed]",
      "text/plain": [
       "<Figure size 1248.5x720 with 6 Axes>"
      ]
     },
     "metadata": {},
     "output_type": "display_data"
    }
   ],
   "source": [
    "ax = sns.catplot(x=\"year\", y=\"percentage\",\n",
    "                 hue=\"other_categories\",\n",
    "                 col = 'status',\n",
    "                 col_wrap =3,\n",
    "                 kind = 'bar',\n",
    "                 data=df_merge.query(\"(percentage.notnull()) and not status == 'REMOVE'\"))\n",
    "ax.savefig(\"barplot_faceted_across_school_type.png\")"
   ]
  },
  {
   "cell_type": "markdown",
   "metadata": {},
   "source": [
    "## Boxplot instead to get a better sense of the distribution"
   ]
  },
  {
   "cell_type": "code",
   "execution_count": 177,
   "metadata": {},
   "outputs": [
    {
     "data": {
      "image/png": "[encoded data removed]",
      "text/plain": [
       "<Figure size 1248.5x720 with 6 Axes>"
      ]
     },
     "metadata": {},
     "output_type": "display_data"
    }
   ],
   "source": [
    "ax = sns.catplot(x=\"year\", y=\"percentage\",\n",
    "                 hue=\"other_categories\",\n",
    "                 col = 'status',\n",
    "                 col_wrap =3,\n",
    "                 kind = 'box',\n",
    "                 data=df_merge.query(\"(percentage.notnull()) and not status == 'REMOVE'\"))\n",
    "ax.savefig(\"boxplot_faceted_across_school_type.png\")"
   ]
  },
  {
   "cell_type": "markdown",
   "metadata": {},
   "source": [
    "# Compare each funding category expenditure across the school types"
   ]
  },
  {
   "cell_type": "code",
   "execution_count": 178,
   "metadata": {},
   "outputs": [
    {
     "data": {
      "image/png": "[encoded data removed]",
      "text/plain": [
       "<Figure size 888.625x720 with 4 Axes>"
      ]
     },
     "metadata": {},
     "output_type": "display_data"
    }
   ],
   "source": [
    "ax = sns.catplot(x=\"year\", y=\"percentage\",\n",
    "                 col=\"other_categories\",\n",
    "                 hue = 'status',\n",
    "                 col_wrap =2,\n",
    "                 kind = 'box',\n",
    "                 data=df_merge.query(\"(percentage.notnull()) and not status == 'REMOVE'\"))\n",
    "ax.savefig(\"barplot_faceted_across_funding_category.png\")"
   ]
  }
 ],
 "metadata": {
  "kernelspec": {
   "display_name": "Python 3",
   "language": "python",
   "name": "python3"
  },
  "language_info": {
   "codemirror_mode": {
    "name": "ipython",
    "version": 3
   },
   "file_extension": ".py",
   "mimetype": "text/x-python",
   "name": "python",
   "nbconvert_exporter": "python",
   "pygments_lexer": "ipython3",
   "version": "3.6.3"
  }
 },
 "nbformat": 4,
 "nbformat_minor": 2
}
